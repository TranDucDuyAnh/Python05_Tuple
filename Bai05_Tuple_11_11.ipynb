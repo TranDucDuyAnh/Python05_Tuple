{
  "nbformat": 4,
  "nbformat_minor": 0,
  "metadata": {
    "colab": {
      "provenance": [],
      "authorship_tag": "ABX9TyMURAia9gJDPYP1slNvxwiC",
      "include_colab_link": true
    },
    "kernelspec": {
      "name": "python3",
      "display_name": "Python 3"
    },
    "language_info": {
      "name": "python"
    }
  },
  "cells": [
    {
      "cell_type": "markdown",
      "metadata": {
        "id": "view-in-github",
        "colab_type": "text"
      },
      "source": [
        "<a href=\"https://colab.research.google.com/github/TranDucDuyAnh/Python05_Tuple/blob/main/Bai05_Tuple_11_11.ipynb\" target=\"_parent\"><img src=\"https://colab.research.google.com/assets/colab-badge.svg\" alt=\"Open In Colab\"/></a>"
      ]
    },
    {
      "cell_type": "markdown",
      "source": [
        "1. Tạo tuple t"
      ],
      "metadata": {
        "id": "S4XPLEqDjTgB"
      }
    },
    {
      "cell_type": "code",
      "execution_count": null,
      "metadata": {
        "id": "1a62lEq8jARQ"
      },
      "outputs": [],
      "source": [
        "t = (12, 45, -1, -0.56, \"abc\", True)"
      ]
    },
    {
      "cell_type": "markdown",
      "source": [
        "2. In t"
      ],
      "metadata": {
        "id": "mK7ZjBdKjmFh"
      }
    },
    {
      "cell_type": "code",
      "source": [
        "print(t)"
      ],
      "metadata": {
        "colab": {
          "base_uri": "https://localhost:8080/"
        },
        "id": "Hc4x7L6bjnPA",
        "outputId": "2d89fe17-9f66-4455-88af-323d6c5ecdd0"
      },
      "execution_count": null,
      "outputs": [
        {
          "output_type": "stream",
          "name": "stdout",
          "text": [
            "(12, 45, -1, -0.56, 'abc', True)\n"
          ]
        }
      ]
    },
    {
      "cell_type": "markdown",
      "source": [
        "3. In giá trị của phần tử cuối cùng và đầu tiên của t"
      ],
      "metadata": {
        "id": "xziHYykQjopg"
      }
    },
    {
      "cell_type": "code",
      "source": [
        "print(t[-1])\n",
        "print(t[0])"
      ],
      "metadata": {
        "colab": {
          "base_uri": "https://localhost:8080/"
        },
        "id": "jvwW6I4JjyC4",
        "outputId": "ab52a222-408f-4d6c-afcb-ceec334ad767"
      },
      "execution_count": null,
      "outputs": [
        {
          "output_type": "stream",
          "name": "stdout",
          "text": [
            "True\n",
            "12\n"
          ]
        }
      ]
    },
    {
      "cell_type": "markdown",
      "source": [
        "4. In phần tử đầu tiên đến thứ 4 của t"
      ],
      "metadata": {
        "id": "8zF9qAaAj8tY"
      }
    },
    {
      "cell_type": "code",
      "source": [
        "t[:4]"
      ],
      "metadata": {
        "colab": {
          "base_uri": "https://localhost:8080/"
        },
        "id": "dKqyjWRukGgJ",
        "outputId": "a7cc15ac-9327-4c21-d777-d34d9de323e5"
      },
      "execution_count": null,
      "outputs": [
        {
          "output_type": "execute_result",
          "data": {
            "text/plain": [
              "(12, 45, -1, -0.56)"
            ]
          },
          "metadata": {},
          "execution_count": 11
        }
      ]
    },
    {
      "cell_type": "markdown",
      "source": [
        "5. In phần tử thứ 3 đến cuối cùng của t"
      ],
      "metadata": {
        "id": "jKYKwDwkkI6g"
      }
    },
    {
      "cell_type": "code",
      "source": [
        "t[2:]"
      ],
      "metadata": {
        "colab": {
          "base_uri": "https://localhost:8080/"
        },
        "id": "oL_2EY6mkOLg",
        "outputId": "b8a5dadd-1765-4d6c-ae12-b32c8dc85dcf"
      },
      "execution_count": null,
      "outputs": [
        {
          "output_type": "execute_result",
          "data": {
            "text/plain": [
              "(-1, -0.56, 'abc', True)"
            ]
          },
          "metadata": {},
          "execution_count": 12
        }
      ]
    },
    {
      "cell_type": "markdown",
      "source": [
        "6. Chuyển tuple t thành list"
      ],
      "metadata": {
        "id": "UZROcQVkkPRI"
      }
    },
    {
      "cell_type": "code",
      "source": [
        "t = list(t)\n",
        "print(t)"
      ],
      "metadata": {
        "colab": {
          "base_uri": "https://localhost:8080/"
        },
        "id": "4rBecIhKkUGx",
        "outputId": "a065b915-a2c2-4d86-e5b7-fe43dc34d3b4"
      },
      "execution_count": null,
      "outputs": [
        {
          "output_type": "stream",
          "name": "stdout",
          "text": [
            "[12, 45, -1, -0.56, 'abc', True]\n"
          ]
        }
      ]
    }
  ]
}